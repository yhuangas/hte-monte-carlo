{
  "nbformat": 4,
  "nbformat_minor": 0,
  "metadata": {
    "colab": {
      "provenance": [],
      "authorship_tag": "ABX9TyPYXWkZXbhPxbRKi/Pxc8YI",
      "include_colab_link": true
    },
    "kernelspec": {
      "name": "python3",
      "display_name": "Python 3"
    },
    "language_info": {
      "name": "python"
    }
  },
  "cells": [
    {
      "cell_type": "markdown",
      "metadata": {
        "id": "view-in-github",
        "colab_type": "text"
      },
      "source": [
        "<a href=\"https://colab.research.google.com/github/yhuangas/hte-monte-carlo/blob/main/HTE_monte_carlo.ipynb\" target=\"_parent\"><img src=\"https://colab.research.google.com/assets/colab-badge.svg\" alt=\"Open In Colab\"/></a>"
      ]
    },
    {
      "cell_type": "markdown",
      "source": [
        "## This notebook experiments with HTE estimators"
      ],
      "metadata": {
        "id": "5f3bFQS8bjpq"
      }
    },
    {
      "cell_type": "code",
      "execution_count": null,
      "metadata": {
        "id": "xsSa2-yPUex6"
      },
      "outputs": [],
      "source": []
    },
    {
      "cell_type": "markdown",
      "source": [
        "## Set up environment"
      ],
      "metadata": {
        "id": "jmsf1S_jbw42"
      }
    },
    {
      "cell_type": "code",
      "source": [],
      "metadata": {
        "id": "wQjIddc3bzgu"
      },
      "execution_count": null,
      "outputs": []
    },
    {
      "cell_type": "markdown",
      "source": [
        "## DGP"
      ],
      "metadata": {
        "id": "VQxO9ynmbtWt"
      }
    },
    {
      "cell_type": "code",
      "source": [],
      "metadata": {
        "id": "7GVmt96Lbvsp"
      },
      "execution_count": null,
      "outputs": []
    },
    {
      "cell_type": "markdown",
      "source": [
        "## Use Causal Forest Estimator"
      ],
      "metadata": {
        "id": "TotgGXLcb1jv"
      }
    },
    {
      "cell_type": "code",
      "source": [],
      "metadata": {
        "id": "p0QdB4L4b6-h"
      },
      "execution_count": null,
      "outputs": []
    },
    {
      "cell_type": "markdown",
      "source": [
        "## Compare with Meta Learner"
      ],
      "metadata": {
        "id": "eLvj6gl1b7T6"
      }
    },
    {
      "cell_type": "code",
      "source": [],
      "metadata": {
        "id": "8VW89lxrb-vn"
      },
      "execution_count": null,
      "outputs": []
    }
  ]
}